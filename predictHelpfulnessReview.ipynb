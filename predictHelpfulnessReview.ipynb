{
 "cells": [
  {
   "cell_type": "markdown",
   "id": "464e3849",
   "metadata": {},
   "source": [
    "# Predict Helpfulness of Game Reviews\n",
    "\n",
    "In this notebook, I replicated the study by Müller et al. (2016) for predicting the helpfulness of online customer reviews using the video games dataset. The following parts are implemented in this Jupyter Notebook:\n",
    "\n",
    "- Data import and exploration \n",
    "- Data preprocessing \n",
    "- Text preprocessing\n",
    "- LDA topics generation and features engineering using documents probabilities for generated topics\n",
    "- RandomForest classifier model training, evaluation and prediction (on test dataset)\n",
    "- Metrics plotting\n",
    "\n",
    "#### Created on Sat Feb 11 16:53:11 2023\n",
    "\n",
    "#### @author: Vaishob Anand"
   ]
  },
  {
   "cell_type": "code",
   "execution_count": 1,
   "id": "e02edf65",
   "metadata": {},
   "outputs": [],
   "source": [
    "# Libraries imported \n",
    "import matplotlib.pyplot as plt\n",
    "import seaborn as sns\n",
    "import pandas as pd\n",
    "import numpy as np \n",
    "import gzip\n",
    "import ast\n",
    "\n",
    "import nltk\n",
    "from nltk.corpus import stopwords\n",
    "import gensim\n",
    "from gensim.utils import simple_preprocess\n",
    "import spacy\n",
    "from spacy.tokens import Doc\n",
    "import gensim.corpora as corpora\n",
    "from gensim.models import LdaModel\n",
    "\n",
    "from sklearn.ensemble import RandomForestClassifier\n",
    "from sklearn.model_selection import train_test_split\n",
    "import joblib\n",
    "from sklearn import metrics"
   ]
  },
  {
   "cell_type": "code",
   "execution_count": 2,
   "id": "7858f543",
   "metadata": {},
   "outputs": [],
   "source": [
    "# Static values/variables\n",
    "LDA_TOPICS_N = 100\n",
    "LDA_PASSES_N = 1 # 10\n",
    "LDA_ALPHA = 'auto'\n",
    "LDA_MIN_PROB = 0\n",
    "LDA_CHUNK = 10000\n",
    "DF_ROWS_N = None # 10000"
   ]
  },
  {
   "cell_type": "markdown",
   "id": "55d4cf35",
   "metadata": {},
   "source": [
    "#### Importing data"
   ]
  },
  {
   "cell_type": "markdown",
   "id": "7c4e9acc",
   "metadata": {},
   "source": [
    "Below we import the Pandas data frame - taken from the source data page: https://jmcauley.ucsd.edu/data/amazon/\n",
    "\n",
    "The `reviews_Video_Games.json.gz` dataset is used. This is a dense subset for Video Games reviews (5-core: 231,780 reviews), where **each of the remaining users and items have k reviews each**\n",
    "\n",
    "Dataset link: https://snap.stanford.edu/data/amazon/productGraph/categoryFiles/reviews_Video_Games_5.json.gz\n",
    "\n",
    "Dataset description:\n",
    "- reviewerID - ID of the reviewer\n",
    "- asin - ID of the product\n",
    "- reviewerName - name of the reviewer\n",
    "- helpful - helpfulness rating of the review\n",
    "- reviewText - text of the review\n",
    "- overall - rating of the product \n",
    "- summary - summary of the review\n",
    "- unixReviewTime - time of the review (unix time)\n",
    "- reviewTime - time of the review (raw)"
   ]
  },
  {
   "cell_type": "code",
   "execution_count": 3,
   "id": "6a4f71ba",
   "metadata": {},
   "outputs": [],
   "source": [
    "def parse(path):\n",
    "    g = gzip.open(path, 'rb')\n",
    "    for i in g:\n",
    "        yield eval(i)\n",
    "\n",
    "def getDF(path):\n",
    "    i = 0\n",
    "    df = {}\n",
    "    for d in parse(path):\n",
    "        df[i] = d\n",
    "        i += 1\n",
    "    return pd.DataFrame.from_dict(df, orient='index')\n",
    "\n",
    "df = getDF('reviews_Video_Games.json.gz')"
   ]
  },
  {
   "cell_type": "markdown",
   "id": "f001643a",
   "metadata": {},
   "source": [
    "#### Exploratory Data Analysis (EDA)"
   ]
  },
  {
   "cell_type": "code",
   "execution_count": 4,
   "id": "b4eccbf9",
   "metadata": {},
   "outputs": [
    {
     "data": {
      "text/html": [
       "<div>\n",
       "<style scoped>\n",
       "    .dataframe tbody tr th:only-of-type {\n",
       "        vertical-align: middle;\n",
       "    }\n",
       "\n",
       "    .dataframe tbody tr th {\n",
       "        vertical-align: top;\n",
       "    }\n",
       "\n",
       "    .dataframe thead th {\n",
       "        text-align: right;\n",
       "    }\n",
       "</style>\n",
       "<table border=\"1\" class=\"dataframe\">\n",
       "  <thead>\n",
       "    <tr style=\"text-align: right;\">\n",
       "      <th></th>\n",
       "      <th>reviewerID</th>\n",
       "      <th>asin</th>\n",
       "      <th>reviewerName</th>\n",
       "      <th>helpful</th>\n",
       "      <th>reviewText</th>\n",
       "      <th>overall</th>\n",
       "      <th>summary</th>\n",
       "      <th>unixReviewTime</th>\n",
       "      <th>reviewTime</th>\n",
       "    </tr>\n",
       "  </thead>\n",
       "  <tbody>\n",
       "    <tr>\n",
       "      <th>0</th>\n",
       "      <td>AB9S9279OZ3QO</td>\n",
       "      <td>0078764343</td>\n",
       "      <td>Alan</td>\n",
       "      <td>[1, 1]</td>\n",
       "      <td>I haven't gotten around to playing the campaig...</td>\n",
       "      <td>5.0</td>\n",
       "      <td>Good game and Beta access!!</td>\n",
       "      <td>1373155200</td>\n",
       "      <td>07 7, 2013</td>\n",
       "    </tr>\n",
       "    <tr>\n",
       "      <th>1</th>\n",
       "      <td>A24SSUT5CSW8BH</td>\n",
       "      <td>0078764343</td>\n",
       "      <td>Kindle Customer</td>\n",
       "      <td>[0, 0]</td>\n",
       "      <td>I want to start off by saying I have never pla...</td>\n",
       "      <td>5.0</td>\n",
       "      <td>Love the game</td>\n",
       "      <td>1377302400</td>\n",
       "      <td>08 24, 2013</td>\n",
       "    </tr>\n",
       "    <tr>\n",
       "      <th>2</th>\n",
       "      <td>AK3V0HEBJMQ7J</td>\n",
       "      <td>0078764343</td>\n",
       "      <td>Miss Kris \"Krissy\"</td>\n",
       "      <td>[0, 0]</td>\n",
       "      <td>this will be my second medal of honor I love h...</td>\n",
       "      <td>4.0</td>\n",
       "      <td>MOH nice</td>\n",
       "      <td>1372896000</td>\n",
       "      <td>07 4, 2013</td>\n",
       "    </tr>\n",
       "    <tr>\n",
       "      <th>3</th>\n",
       "      <td>A10BECPH7W8HM7</td>\n",
       "      <td>043933702X</td>\n",
       "      <td>GMC \"Old Time Modeler\"</td>\n",
       "      <td>[0, 0]</td>\n",
       "      <td>great game when it first came out, and still a...</td>\n",
       "      <td>5.0</td>\n",
       "      <td>Five Stars</td>\n",
       "      <td>1404950400</td>\n",
       "      <td>07 10, 2014</td>\n",
       "    </tr>\n",
       "    <tr>\n",
       "      <th>4</th>\n",
       "      <td>A2PRV9OULX1TWP</td>\n",
       "      <td>043933702X</td>\n",
       "      <td>grimi</td>\n",
       "      <td>[0, 0]</td>\n",
       "      <td>this is the first need for speed I bought year...</td>\n",
       "      <td>5.0</td>\n",
       "      <td>memory lane</td>\n",
       "      <td>1386115200</td>\n",
       "      <td>12 4, 2013</td>\n",
       "    </tr>\n",
       "  </tbody>\n",
       "</table>\n",
       "</div>"
      ],
      "text/plain": [
       "       reviewerID        asin            reviewerName helpful  \\\n",
       "0   AB9S9279OZ3QO  0078764343                    Alan  [1, 1]   \n",
       "1  A24SSUT5CSW8BH  0078764343         Kindle Customer  [0, 0]   \n",
       "2   AK3V0HEBJMQ7J  0078764343      Miss Kris \"Krissy\"  [0, 0]   \n",
       "3  A10BECPH7W8HM7  043933702X  GMC \"Old Time Modeler\"  [0, 0]   \n",
       "4  A2PRV9OULX1TWP  043933702X                   grimi  [0, 0]   \n",
       "\n",
       "                                          reviewText  overall  \\\n",
       "0  I haven't gotten around to playing the campaig...      5.0   \n",
       "1  I want to start off by saying I have never pla...      5.0   \n",
       "2  this will be my second medal of honor I love h...      4.0   \n",
       "3  great game when it first came out, and still a...      5.0   \n",
       "4  this is the first need for speed I bought year...      5.0   \n",
       "\n",
       "                       summary  unixReviewTime   reviewTime  \n",
       "0  Good game and Beta access!!      1373155200   07 7, 2013  \n",
       "1                Love the game      1377302400  08 24, 2013  \n",
       "2                     MOH nice      1372896000   07 4, 2013  \n",
       "3                   Five Stars      1404950400  07 10, 2014  \n",
       "4                  memory lane      1386115200   12 4, 2013  "
      ]
     },
     "execution_count": 4,
     "metadata": {},
     "output_type": "execute_result"
    }
   ],
   "source": [
    "# View data \n",
    "df.head(5)"
   ]
  },
  {
   "cell_type": "code",
   "execution_count": 5,
   "id": "85010acc",
   "metadata": {},
   "outputs": [
    {
     "data": {
      "text/plain": [
       "Index(['reviewerID', 'asin', 'reviewerName', 'helpful', 'reviewText',\n",
       "       'overall', 'summary', 'unixReviewTime', 'reviewTime'],\n",
       "      dtype='object')"
      ]
     },
     "execution_count": 5,
     "metadata": {},
     "output_type": "execute_result"
    }
   ],
   "source": [
    "df.columns"
   ]
  },
  {
   "cell_type": "code",
   "execution_count": 6,
   "id": "f4de3dfe",
   "metadata": {},
   "outputs": [
    {
     "data": {
      "text/plain": [
       "1324753"
      ]
     },
     "execution_count": 6,
     "metadata": {},
     "output_type": "execute_result"
    }
   ],
   "source": [
    "len(df)"
   ]
  },
  {
   "cell_type": "code",
   "execution_count": 7,
   "id": "b49dfdb1",
   "metadata": {},
   "outputs": [
    {
     "data": {
      "text/plain": [
       "count    1.324753e+06\n",
       "mean     3.978754e+00\n",
       "std      1.378987e+00\n",
       "min      1.000000e+00\n",
       "25%      3.000000e+00\n",
       "50%      5.000000e+00\n",
       "75%      5.000000e+00\n",
       "max      5.000000e+00\n",
       "Name: overall, dtype: float64"
      ]
     },
     "execution_count": 7,
     "metadata": {},
     "output_type": "execute_result"
    }
   ],
   "source": [
    "df['overall'].describe()"
   ]
  },
  {
   "cell_type": "code",
   "execution_count": 8,
   "id": "674da82f",
   "metadata": {},
   "outputs": [
    {
     "data": {
      "text/plain": [
       "reviewerID         object\n",
       "asin               object\n",
       "reviewerName       object\n",
       "helpful            object\n",
       "reviewText         object\n",
       "overall           float64\n",
       "summary            object\n",
       "unixReviewTime      int64\n",
       "reviewTime         object\n",
       "dtype: object"
      ]
     },
     "execution_count": 8,
     "metadata": {},
     "output_type": "execute_result"
    }
   ],
   "source": [
    "df.dtypes"
   ]
  },
  {
   "cell_type": "markdown",
   "id": "2a3fccaa",
   "metadata": {},
   "source": [
    "#### Data Cleaning / Preprocessing"
   ]
  },
  {
   "cell_type": "code",
   "execution_count": 9,
   "id": "e7fa0463",
   "metadata": {},
   "outputs": [
    {
     "name": "stdout",
     "output_type": "stream",
     "text": [
      "New length: 698157\n"
     ]
    }
   ],
   "source": [
    "# Remove records with null 'helpfulness' values ([0,0])\n",
    "df_preproc = df[df['helpful'].apply(lambda x: x!=[0,0])]\n",
    "print(f'New length: {len(df_preproc)}')"
   ]
  },
  {
   "cell_type": "code",
   "execution_count": 10,
   "id": "69645eff",
   "metadata": {},
   "outputs": [
    {
     "name": "stderr",
     "output_type": "stream",
     "text": [
      "C:\\Users\\Vaishob\\AppData\\Local\\Temp\\ipykernel_15700\\2531987885.py:2: UserWarning: Boolean Series key will be reindexed to match DataFrame index.\n",
      "  df_preproc = df_preproc[df['helpful'].apply(lambda x: x[1] >= 2)]\n"
     ]
    },
    {
     "name": "stdout",
     "output_type": "stream",
     "text": [
      "New length: 493137\n"
     ]
    }
   ],
   "source": [
    "# Exclude reviews with less than 2 helpfulness ratings \n",
    "df_preproc = df_preproc[df['helpful'].apply(lambda x: x[1] >= 2)]\n",
    "print(f'New length: {len(df_preproc)}')"
   ]
  },
  {
   "cell_type": "code",
   "execution_count": 11,
   "id": "7ea21dcc",
   "metadata": {},
   "outputs": [],
   "source": [
    "# Create column containing the ratio of helpful votes out of total votes \n",
    "df_preproc['helpful_ratio'] = df_preproc.apply(lambda row: row['helpful'][0]/row['helpful'][1], axis=1) "
   ]
  },
  {
   "cell_type": "code",
   "execution_count": 12,
   "id": "4c97b5de",
   "metadata": {},
   "outputs": [
    {
     "data": {
      "text/plain": [
       "Text(0.5, 1.0, 'Histogram of helpful ratio')"
      ]
     },
     "execution_count": 12,
     "metadata": {},
     "output_type": "execute_result"
    },
    {
     "data": {
      "image/png": "[encoded data removed]",
      "text/plain": [
       "<Figure size 450x360 with 1 Axes>"
      ]
     },
     "metadata": {},
     "output_type": "display_data"
    }
   ],
   "source": [
    "fig, axs = plt.subplots(dpi=90, figsize = (5, 4))\n",
    "df_preproc.hist(column='helpful_ratio', ax = axs)\n",
    "axs.set_xlabel('helpful_ratio value')\n",
    "axs.set_ylabel('frequency')\n",
    "axs.set_title('Histogram of helpful ratio')"
   ]
  },
  {
   "cell_type": "code",
   "execution_count": 13,
   "id": "7e661fcd",
   "metadata": {},
   "outputs": [
    {
     "data": {
      "text/html": [
       "<div>\n",
       "<style scoped>\n",
       "    .dataframe tbody tr th:only-of-type {\n",
       "        vertical-align: middle;\n",
       "    }\n",
       "\n",
       "    .dataframe tbody tr th {\n",
       "        vertical-align: top;\n",
       "    }\n",
       "\n",
       "    .dataframe thead th {\n",
       "        text-align: right;\n",
       "    }\n",
       "</style>\n",
       "<table border=\"1\" class=\"dataframe\">\n",
       "  <thead>\n",
       "    <tr style=\"text-align: right;\">\n",
       "      <th></th>\n",
       "      <th>reviewerID</th>\n",
       "      <th>asin</th>\n",
       "      <th>reviewerName</th>\n",
       "      <th>helpful</th>\n",
       "      <th>reviewText</th>\n",
       "      <th>overall</th>\n",
       "      <th>summary</th>\n",
       "      <th>unixReviewTime</th>\n",
       "      <th>reviewTime</th>\n",
       "      <th>helpful_ratio</th>\n",
       "      <th>is_helpful</th>\n",
       "    </tr>\n",
       "  </thead>\n",
       "  <tbody>\n",
       "    <tr>\n",
       "      <th>9</th>\n",
       "      <td>A182S3ANC0W7DL</td>\n",
       "      <td>0439342260</td>\n",
       "      <td>James</td>\n",
       "      <td>[2, 2]</td>\n",
       "      <td>I am an Ice Cream Truck Vendor (I lease out 20...</td>\n",
       "      <td>4.0</td>\n",
       "      <td>Teach Business to Kids &amp; Adults</td>\n",
       "      <td>1355875200</td>\n",
       "      <td>12 19, 2012</td>\n",
       "      <td>1.000000</td>\n",
       "      <td>1</td>\n",
       "    </tr>\n",
       "    <tr>\n",
       "      <th>12</th>\n",
       "      <td>APDCEJMFDO2YT</td>\n",
       "      <td>0439394422</td>\n",
       "      <td>L. Murray \"common sense\"</td>\n",
       "      <td>[2, 3]</td>\n",
       "      <td>Such fast shipping, games is such great condit...</td>\n",
       "      <td>5.0</td>\n",
       "      <td>AMAZING COMPANY</td>\n",
       "      <td>1285545600</td>\n",
       "      <td>09 27, 2010</td>\n",
       "      <td>0.666667</td>\n",
       "      <td>1</td>\n",
       "    </tr>\n",
       "  </tbody>\n",
       "</table>\n",
       "</div>"
      ],
      "text/plain": [
       "        reviewerID        asin              reviewerName helpful  \\\n",
       "9   A182S3ANC0W7DL  0439342260                     James  [2, 2]   \n",
       "12   APDCEJMFDO2YT  0439394422  L. Murray \"common sense\"  [2, 3]   \n",
       "\n",
       "                                           reviewText  overall  \\\n",
       "9   I am an Ice Cream Truck Vendor (I lease out 20...      4.0   \n",
       "12  Such fast shipping, games is such great condit...      5.0   \n",
       "\n",
       "                            summary  unixReviewTime   reviewTime  \\\n",
       "9   Teach Business to Kids & Adults      1355875200  12 19, 2012   \n",
       "12                  AMAZING COMPANY      1285545600  09 27, 2010   \n",
       "\n",
       "    helpful_ratio  is_helpful  \n",
       "9        1.000000           1  \n",
       "12       0.666667           1  "
      ]
     },
     "execution_count": 13,
     "metadata": {},
     "output_type": "execute_result"
    }
   ],
   "source": [
    "# Create discretized version of above data (is_helpful)\n",
    "df_preproc['is_helpful'] = df_preproc.apply(lambda row: 1 if row['helpful_ratio']>0.5 else 0, axis=1)\n",
    "df_preproc.head(2)"
   ]
  },
  {
   "cell_type": "code",
   "execution_count": 14,
   "id": "3f46982b",
   "metadata": {},
   "outputs": [
    {
     "name": "stdout",
     "output_type": "stream",
     "text": [
      "1    271706\n",
      "0    221431\n",
      "Name: is_helpful, dtype: int64\n"
     ]
    },
    {
     "data": {
      "image/png": "[encoded data removed]",
      "text/plain": [
       "<Figure size 450x360 with 1 Axes>"
      ]
     },
     "metadata": {},
     "output_type": "display_data"
    }
   ],
   "source": [
    "fig, axs = plt.subplots(dpi=90, figsize = (5, 4))\n",
    "counts = df_preproc['is_helpful'].value_counts()\n",
    "counts.plot(kind='bar',ax = axs)\n",
    "axs.set_xlabel('is_helpful')\n",
    "axs.set_ylabel('frequency')\n",
    "axs.set_title('Discretized helpful ratio')\n",
    "print(counts)"
   ]
  },
  {
   "cell_type": "markdown",
   "id": "094ce422",
   "metadata": {},
   "source": [
    "#### Text data preprocessing"
   ]
  },
  {
   "cell_type": "code",
   "execution_count": 15,
   "id": "dd34f444",
   "metadata": {},
   "outputs": [
    {
     "name": "stderr",
     "output_type": "stream",
     "text": [
      "[nltk_data] Downloading package stopwords to\n",
      "[nltk_data]     C:\\Users\\Vaishob\\AppData\\Roaming\\nltk_data...\n",
      "[nltk_data]   Package stopwords is already up-to-date!\n"
     ]
    }
   ],
   "source": [
    "# Stopwords load\n",
    "nltk.download('stopwords')\n",
    "stop_words = stopwords.words('english')\n",
    "\n",
    "# Adding custom stopwords\n",
    "cust_stop_words = ['game', 'play']\n",
    "stop_words.extend(cust_stop_words)\n",
    "\n",
    "# Initialize spacy doc \n",
    "nlp = spacy.load('en_core_web_sm')"
   ]
  },
  {
   "cell_type": "code",
   "execution_count": 16,
   "id": "8ee5928c",
   "metadata": {},
   "outputs": [],
   "source": [
    "# Text preprocessing function \n",
    "def text_preprocessing(doc):\n",
    "    \n",
    "    # Token size, Lower case, Remove special characters, Punctuation/Digits\n",
    "    doc_preproc = simple_preprocess(str(doc), deacc=True)\n",
    "    \n",
    "    # Lemmatization\n",
    "    doc_preproc_nlp = nlp(\" \".join(token for token in doc_preproc))\n",
    "    doc_preproc = [token.lemma_ for token in doc_preproc_nlp]\n",
    "    \n",
    "    # Remove extended stopwords\n",
    "    doc_new = []\n",
    "    [doc_new.append(token) for token in doc_preproc if token not in stop_words]\n",
    "    \n",
    "    return(doc_new)"
   ]
  },
  {
   "cell_type": "code",
   "execution_count": 17,
   "id": "aeed4239",
   "metadata": {},
   "outputs": [],
   "source": [
    "df_txt_preproc = df_preproc.head(DF_ROWS_N)\n",
    "df_txt_preproc['review'] = df_txt_preproc.apply(lambda row: text_preprocessing(row['reviewText']), axis=1)\n",
    "df_txt_preproc.reset_index(inplace = True)"
   ]
  },
  {
   "cell_type": "code",
   "execution_count": 18,
   "id": "f13ec2c9",
   "metadata": {},
   "outputs": [
    {
     "data": {
      "text/plain": [
       "0         [ice, cream, truck, vendor, lease, truck, owne...\n",
       "1         [fast, shipping, great, condition, even, inclu...\n",
       "2         [son, hate, math, love, star, war, jabba, math...\n",
       "3         [son, hate, math, love, like, fact, also, two,...\n",
       "4         [seven, year, old, lot, fun, learn, math, time...\n",
       "                                ...                        \n",
       "493132                                  [good, dust, cover]\n",
       "493133    [let, I, say, buy, cover, past, nothing, fit, ...\n",
       "493134    [really, like, graphic, excellent, plot, great...\n",
       "493135                                             [badass]\n",
       "493136    [fortunate, enough, purchase, enjoy, japanese,...\n",
       "Name: review, Length: 493137, dtype: object"
      ]
     },
     "execution_count": 18,
     "metadata": {},
     "output_type": "execute_result"
    }
   ],
   "source": [
    "df_txt_preproc['review']"
   ]
  },
  {
   "cell_type": "code",
   "execution_count": 19,
   "id": "4e3a8004",
   "metadata": {},
   "outputs": [],
   "source": [
    "# Keep original index\n",
    "df_txt_preproc.rename(columns={'index':'originalIndex'}, inplace=True)"
   ]
  },
  {
   "cell_type": "code",
   "execution_count": 20,
   "id": "4d9d6432",
   "metadata": {},
   "outputs": [],
   "source": [
    "# Save csv file after data/text processing\n",
    "df_txt_preproc.to_csv('df_txt_preproc.csv', sep = '\\t', index = False)"
   ]
  },
  {
   "cell_type": "markdown",
   "id": "66fd529d",
   "metadata": {},
   "source": [
    "#### Create LDA model "
   ]
  },
  {
   "cell_type": "code",
   "execution_count": 21,
   "id": "5c9d4eca",
   "metadata": {},
   "outputs": [],
   "source": [
    "# Load saved preprocessed dataset\n",
    "df = pd.read_csv('df_txt_preproc.csv', sep ='\\t')"
   ]
  },
  {
   "cell_type": "code",
   "execution_count": 22,
   "id": "e886d367",
   "metadata": {},
   "outputs": [
    {
     "data": {
      "text/html": [
       "<div>\n",
       "<style scoped>\n",
       "    .dataframe tbody tr th:only-of-type {\n",
       "        vertical-align: middle;\n",
       "    }\n",
       "\n",
       "    .dataframe tbody tr th {\n",
       "        vertical-align: top;\n",
       "    }\n",
       "\n",
       "    .dataframe thead th {\n",
       "        text-align: right;\n",
       "    }\n",
       "</style>\n",
       "<table border=\"1\" class=\"dataframe\">\n",
       "  <thead>\n",
       "    <tr style=\"text-align: right;\">\n",
       "      <th></th>\n",
       "      <th>originalIndex</th>\n",
       "      <th>is_helpful</th>\n",
       "      <th>length</th>\n",
       "      <th>stars</th>\n",
       "      <th>review</th>\n",
       "    </tr>\n",
       "  </thead>\n",
       "  <tbody>\n",
       "    <tr>\n",
       "      <th>0</th>\n",
       "      <td>9</td>\n",
       "      <td>1</td>\n",
       "      <td>579</td>\n",
       "      <td>4.0</td>\n",
       "      <td>['ice', 'cream', 'truck', 'vendor', 'lease', '...</td>\n",
       "    </tr>\n",
       "    <tr>\n",
       "      <th>1</th>\n",
       "      <td>12</td>\n",
       "      <td>1</td>\n",
       "      <td>374</td>\n",
       "      <td>5.0</td>\n",
       "      <td>['fast', 'shipping', 'great', 'condition', 'ev...</td>\n",
       "    </tr>\n",
       "    <tr>\n",
       "      <th>2</th>\n",
       "      <td>13</td>\n",
       "      <td>1</td>\n",
       "      <td>235</td>\n",
       "      <td>4.0</td>\n",
       "      <td>['son', 'hate', 'math', 'love', 'star', 'war',...</td>\n",
       "    </tr>\n",
       "    <tr>\n",
       "      <th>3</th>\n",
       "      <td>15</td>\n",
       "      <td>1</td>\n",
       "      <td>275</td>\n",
       "      <td>5.0</td>\n",
       "      <td>['son', 'hate', 'math', 'love', 'like', 'fact'...</td>\n",
       "    </tr>\n",
       "    <tr>\n",
       "      <th>4</th>\n",
       "      <td>16</td>\n",
       "      <td>1</td>\n",
       "      <td>245</td>\n",
       "      <td>5.0</td>\n",
       "      <td>['seven', 'year', 'old', 'lot', 'fun', 'learn'...</td>\n",
       "    </tr>\n",
       "  </tbody>\n",
       "</table>\n",
       "</div>"
      ],
      "text/plain": [
       "   originalIndex  is_helpful  length  stars  \\\n",
       "0              9           1     579    4.0   \n",
       "1             12           1     374    5.0   \n",
       "2             13           1     235    4.0   \n",
       "3             15           1     275    5.0   \n",
       "4             16           1     245    5.0   \n",
       "\n",
       "                                              review  \n",
       "0  ['ice', 'cream', 'truck', 'vendor', 'lease', '...  \n",
       "1  ['fast', 'shipping', 'great', 'condition', 'ev...  \n",
       "2  ['son', 'hate', 'math', 'love', 'star', 'war',...  \n",
       "3  ['son', 'hate', 'math', 'love', 'like', 'fact'...  \n",
       "4  ['seven', 'year', 'old', 'lot', 'fun', 'learn'...  "
      ]
     },
     "execution_count": 22,
     "metadata": {},
     "output_type": "execute_result"
    }
   ],
   "source": [
    "# Create text_len column\n",
    "df['length'] = df.apply(lambda row: len(str(row['reviewText'])), axis=1)\n",
    "\n",
    "# Rename column 'overall' to 'stars'\n",
    "df.rename(columns={'overall':'stars'}, inplace=True)\n",
    "\n",
    "# Keep only needed columns\n",
    "df = df[['originalIndex', 'is_helpful', 'length', 'stars', 'review']]\n",
    "\n",
    "df.head(5)"
   ]
  },
  {
   "cell_type": "code",
   "execution_count": 23,
   "id": "40557271",
   "metadata": {},
   "outputs": [],
   "source": [
    "# Create list of processed documents \n",
    "doc_proc_list = [list(ast.literal_eval(df.review[i])) for i in range(df.shape[0])]"
   ]
  },
  {
   "cell_type": "code",
   "execution_count": 24,
   "id": "b5e050d5",
   "metadata": {},
   "outputs": [],
   "source": [
    "# Create dictionary\n",
    "dict = corpora.Dictionary(doc_proc_list)"
   ]
  },
  {
   "cell_type": "code",
   "execution_count": 25,
   "id": "4f4d8777",
   "metadata": {},
   "outputs": [],
   "source": [
    "# Docs to vectors\n",
    "corpus = [dict.doc2bow(doc) for doc in doc_proc_list]"
   ]
  },
  {
   "cell_type": "code",
   "execution_count": 26,
   "id": "caa8f259",
   "metadata": {},
   "outputs": [],
   "source": [
    "# LDA model fit\n",
    "lda = LdaModel(corpus,\n",
    "    num_topics = LDA_TOPICS_N,\n",
    "    id2word = dict,\n",
    "    passes = LDA_PASSES_N,\n",
    "    alpha = LDA_ALPHA,\n",
    "    minimum_probability = LDA_MIN_PROB,\n",
    "    # update_every=5,\n",
    "    chunksize = LDA_CHUNK\n",
    "    )"
   ]
  },
  {
   "cell_type": "code",
   "execution_count": 27,
   "id": "528c198f",
   "metadata": {},
   "outputs": [
    {
     "name": "stdout",
     "output_type": "stream",
     "text": [
      "(82, '0.102*\"quot\" + 0.091*\"amp\" + 0.029*\"exhibit\" + 0.028*\"rude\" + 0.026*\"announcement\" + 0.025*\"goalie\" + 0.018*\"stranger\" + 0.016*\"unhelpful\" + 0.016*\"increment\" + 0.015*\"behavior\"')\n",
      "(96, '0.085*\"love\" + 0.050*\"old\" + 0.043*\"kid\" + 0.035*\"son\" + 0.034*\"year\" + 0.024*\"great\" + 0.022*\"fun\" + 0.022*\"get\" + 0.022*\"buy\" + 0.018*\"would\"')\n",
      "(38, '0.031*\"get\" + 0.031*\"work\" + 0.024*\"buy\" + 0.020*\"money\" + 0.019*\"try\" + 0.016*\"I\" + 0.015*\"time\" + 0.014*\"would\" + 0.013*\"one\" + 0.013*\"back\"')\n"
     ]
    }
   ],
   "source": [
    "# Print 3 topics \n",
    "for topic in lda.show_topics(num_topics=3): print(topic) # num_words=.."
   ]
  },
  {
   "cell_type": "code",
   "execution_count": 28,
   "id": "dcd00e61",
   "metadata": {},
   "outputs": [
    {
     "data": {
      "text/html": [
       "<div>\n",
       "<style scoped>\n",
       "    .dataframe tbody tr th:only-of-type {\n",
       "        vertical-align: middle;\n",
       "    }\n",
       "\n",
       "    .dataframe tbody tr th {\n",
       "        vertical-align: top;\n",
       "    }\n",
       "\n",
       "    .dataframe thead th {\n",
       "        text-align: right;\n",
       "    }\n",
       "</style>\n",
       "<table border=\"1\" class=\"dataframe\">\n",
       "  <thead>\n",
       "    <tr style=\"text-align: right;\">\n",
       "      <th></th>\n",
       "      <th>word 1</th>\n",
       "      <th>word 2</th>\n",
       "      <th>word 3</th>\n",
       "      <th>word 4</th>\n",
       "      <th>word 5</th>\n",
       "      <th>word 6</th>\n",
       "      <th>word 7</th>\n",
       "      <th>word 8</th>\n",
       "      <th>word 9</th>\n",
       "      <th>word 10</th>\n",
       "    </tr>\n",
       "    <tr>\n",
       "      <th>LDA topics</th>\n",
       "      <th></th>\n",
       "      <th></th>\n",
       "      <th></th>\n",
       "      <th></th>\n",
       "      <th></th>\n",
       "      <th></th>\n",
       "      <th></th>\n",
       "      <th></th>\n",
       "      <th></th>\n",
       "      <th></th>\n",
       "    </tr>\n",
       "  </thead>\n",
       "  <tbody>\n",
       "    <tr>\n",
       "      <th>Topic 1</th>\n",
       "      <td>link</td>\n",
       "      <td>zelda</td>\n",
       "      <td>island</td>\n",
       "      <td>max</td>\n",
       "      <td>legend</td>\n",
       "      <td>facebook</td>\n",
       "      <td>xcom</td>\n",
       "      <td>sword</td>\n",
       "      <td>ratchet</td>\n",
       "      <td>time</td>\n",
       "    </tr>\n",
       "    <tr>\n",
       "      <th>Topic 2</th>\n",
       "      <td>alien</td>\n",
       "      <td>table</td>\n",
       "      <td>pulse</td>\n",
       "      <td>freezing</td>\n",
       "      <td>downgrade</td>\n",
       "      <td>zoo</td>\n",
       "      <td>nazi</td>\n",
       "      <td>marine</td>\n",
       "      <td>ripoff</td>\n",
       "      <td>predator</td>\n",
       "    </tr>\n",
       "    <tr>\n",
       "      <th>Topic 3</th>\n",
       "      <td>app</td>\n",
       "      <td>crash</td>\n",
       "      <td>palm</td>\n",
       "      <td>tb</td>\n",
       "      <td>chip</td>\n",
       "      <td>mk</td>\n",
       "      <td>mortal</td>\n",
       "      <td>pe</td>\n",
       "      <td>kombat</td>\n",
       "      <td>stink</td>\n",
       "    </tr>\n",
       "    <tr>\n",
       "      <th>Topic 4</th>\n",
       "      <td>version</td>\n",
       "      <td>original</td>\n",
       "      <td>title</td>\n",
       "      <td>release</td>\n",
       "      <td>well</td>\n",
       "      <td>previous</td>\n",
       "      <td>much</td>\n",
       "      <td>still</td>\n",
       "      <td>new</td>\n",
       "      <td>improvement</td>\n",
       "    </tr>\n",
       "    <tr>\n",
       "      <th>Topic 5</th>\n",
       "      <td>madden</td>\n",
       "      <td>team</td>\n",
       "      <td>pass</td>\n",
       "      <td>franchise</td>\n",
       "      <td>football</td>\n",
       "      <td>year</td>\n",
       "      <td>nfl</td>\n",
       "      <td>de</td>\n",
       "      <td>defense</td>\n",
       "      <td>la</td>\n",
       "    </tr>\n",
       "    <tr>\n",
       "      <th>Topic 6</th>\n",
       "      <td>headset</td>\n",
       "      <td>comfortable</td>\n",
       "      <td>pleased</td>\n",
       "      <td>activision</td>\n",
       "      <td>head</td>\n",
       "      <td>course</td>\n",
       "      <td>hear</td>\n",
       "      <td>wear</td>\n",
       "      <td>blah</td>\n",
       "      <td>golf</td>\n",
       "    </tr>\n",
       "    <tr>\n",
       "      <th>Topic 7</th>\n",
       "      <td>skyrim</td>\n",
       "      <td>phone</td>\n",
       "      <td>psn</td>\n",
       "      <td>arkham</td>\n",
       "      <td>web</td>\n",
       "      <td>bluetooth</td>\n",
       "      <td>site</td>\n",
       "      <td>google</td>\n",
       "      <td>free</td>\n",
       "      <td>page</td>\n",
       "    </tr>\n",
       "    <tr>\n",
       "      <th>Topic 8</th>\n",
       "      <td>show</td>\n",
       "      <td>question</td>\n",
       "      <td>lego</td>\n",
       "      <td>th</td>\n",
       "      <td>answer</td>\n",
       "      <td>gamestop</td>\n",
       "      <td>ask</td>\n",
       "      <td>tv</td>\n",
       "      <td>lobby</td>\n",
       "      <td>faulty</td>\n",
       "    </tr>\n",
       "    <tr>\n",
       "      <th>Topic 9</th>\n",
       "      <td>origin</td>\n",
       "      <td>rpg</td>\n",
       "      <td>dragon</td>\n",
       "      <td>fan</td>\n",
       "      <td>age</td>\n",
       "      <td>rpgs</td>\n",
       "      <td>elder</td>\n",
       "      <td>like</td>\n",
       "      <td>good</td>\n",
       "      <td>system</td>\n",
       "    </tr>\n",
       "    <tr>\n",
       "      <th>Topic 10</th>\n",
       "      <td>build</td>\n",
       "      <td>building</td>\n",
       "      <td>optical</td>\n",
       "      <td>land</td>\n",
       "      <td>route</td>\n",
       "      <td>goty</td>\n",
       "      <td>qb</td>\n",
       "      <td>outer</td>\n",
       "      <td>sea</td>\n",
       "      <td>tropical</td>\n",
       "    </tr>\n",
       "  </tbody>\n",
       "</table>\n",
       "</div>"
      ],
      "text/plain": [
       "             word 1       word 2   word 3      word 4     word 5     word 6  \\\n",
       "LDA topics                                                                    \n",
       "Topic 1        link        zelda   island         max     legend   facebook   \n",
       "Topic 2       alien        table    pulse    freezing  downgrade        zoo   \n",
       "Topic 3         app        crash     palm          tb       chip         mk   \n",
       "Topic 4     version     original    title     release       well   previous   \n",
       "Topic 5      madden         team     pass   franchise   football       year   \n",
       "Topic 6     headset  comfortable  pleased  activision       head     course   \n",
       "Topic 7      skyrim        phone      psn      arkham        web  bluetooth   \n",
       "Topic 8        show     question     lego          th     answer   gamestop   \n",
       "Topic 9      origin          rpg   dragon         fan        age       rpgs   \n",
       "Topic 10      build     building  optical        land      route       goty   \n",
       "\n",
       "            word 7  word 8   word 9      word 10  \n",
       "LDA topics                                        \n",
       "Topic 1       xcom   sword  ratchet         time  \n",
       "Topic 2       nazi  marine   ripoff     predator  \n",
       "Topic 3     mortal      pe   kombat        stink  \n",
       "Topic 4       much   still      new  improvement  \n",
       "Topic 5        nfl      de  defense           la  \n",
       "Topic 6       hear    wear     blah         golf  \n",
       "Topic 7       site  google     free         page  \n",
       "Topic 8        ask      tv    lobby       faulty  \n",
       "Topic 9      elder    like     good       system  \n",
       "Topic 10        qb   outer      sea     tropical  "
      ]
     },
     "execution_count": 28,
     "metadata": {},
     "output_type": "execute_result"
    }
   ],
   "source": [
    "# Show topic sample data for first 10 topics \n",
    "df_list = []\n",
    "for i in range(10):\n",
    "    topic = lda.show_topic(i)\n",
    "    words_list = [tuple[0] for tuple in topic]\n",
    "    df_list.append(words_list)\n",
    "df_topics10 = pd.DataFrame(df_list)\n",
    "df_topics10.columns = [f'word {i+1}' for i in range(10)]\n",
    "df_topics10['LDA topics'] = [f'Topic {i+1}' for i in range(10)]\n",
    "df_topics10.set_index('LDA topics', inplace = True)\n",
    "df_topics10"
   ]
  },
  {
   "cell_type": "markdown",
   "id": "49be00a8",
   "metadata": {},
   "source": [
    "#### Get probabilities for all documents"
   ]
  },
  {
   "cell_type": "code",
   "execution_count": 29,
   "id": "702c3a7f",
   "metadata": {},
   "outputs": [
    {
     "data": {
      "text/plain": [
       "493137"
      ]
     },
     "execution_count": 29,
     "metadata": {},
     "output_type": "execute_result"
    }
   ],
   "source": [
    "# Get probs for all documents\n",
    "lda_corpus = lda[corpus]\n",
    "len(lda_corpus)"
   ]
  },
  {
   "cell_type": "code",
   "execution_count": 30,
   "id": "eaaae92d",
   "metadata": {},
   "outputs": [
    {
     "data": {
      "text/html": [
       "<div>\n",
       "<style scoped>\n",
       "    .dataframe tbody tr th:only-of-type {\n",
       "        vertical-align: middle;\n",
       "    }\n",
       "\n",
       "    .dataframe tbody tr th {\n",
       "        vertical-align: top;\n",
       "    }\n",
       "\n",
       "    .dataframe thead th {\n",
       "        text-align: right;\n",
       "    }\n",
       "</style>\n",
       "<table border=\"1\" class=\"dataframe\">\n",
       "  <thead>\n",
       "    <tr style=\"text-align: right;\">\n",
       "      <th></th>\n",
       "      <th>Topic 1</th>\n",
       "      <th>Topic 2</th>\n",
       "      <th>Topic 3</th>\n",
       "      <th>Topic 4</th>\n",
       "      <th>Topic 5</th>\n",
       "      <th>Topic 6</th>\n",
       "      <th>Topic 7</th>\n",
       "      <th>Topic 8</th>\n",
       "      <th>Topic 9</th>\n",
       "      <th>Topic 10</th>\n",
       "      <th>...</th>\n",
       "      <th>Topic 91</th>\n",
       "      <th>Topic 92</th>\n",
       "      <th>Topic 93</th>\n",
       "      <th>Topic 94</th>\n",
       "      <th>Topic 95</th>\n",
       "      <th>Topic 96</th>\n",
       "      <th>Topic 97</th>\n",
       "      <th>Topic 98</th>\n",
       "      <th>Topic 99</th>\n",
       "      <th>Topic 100</th>\n",
       "    </tr>\n",
       "  </thead>\n",
       "  <tbody>\n",
       "    <tr>\n",
       "      <th>0</th>\n",
       "      <td>0.000231</td>\n",
       "      <td>0.000230</td>\n",
       "      <td>0.000229</td>\n",
       "      <td>0.000415</td>\n",
       "      <td>0.000250</td>\n",
       "      <td>0.000260</td>\n",
       "      <td>0.000308</td>\n",
       "      <td>0.102163</td>\n",
       "      <td>0.000251</td>\n",
       "      <td>0.000265</td>\n",
       "      <td>...</td>\n",
       "      <td>0.000261</td>\n",
       "      <td>0.000221</td>\n",
       "      <td>0.000264</td>\n",
       "      <td>0.000254</td>\n",
       "      <td>0.000347</td>\n",
       "      <td>0.000298</td>\n",
       "      <td>0.029189</td>\n",
       "      <td>0.000241</td>\n",
       "      <td>0.000289</td>\n",
       "      <td>0.000469</td>\n",
       "    </tr>\n",
       "    <tr>\n",
       "      <th>1</th>\n",
       "      <td>0.000315</td>\n",
       "      <td>0.000313</td>\n",
       "      <td>0.000312</td>\n",
       "      <td>0.000567</td>\n",
       "      <td>0.000342</td>\n",
       "      <td>0.000354</td>\n",
       "      <td>0.000420</td>\n",
       "      <td>0.000440</td>\n",
       "      <td>0.000342</td>\n",
       "      <td>0.000361</td>\n",
       "      <td>...</td>\n",
       "      <td>0.000356</td>\n",
       "      <td>0.000301</td>\n",
       "      <td>0.000360</td>\n",
       "      <td>0.000346</td>\n",
       "      <td>0.000473</td>\n",
       "      <td>0.000406</td>\n",
       "      <td>0.094272</td>\n",
       "      <td>0.000328</td>\n",
       "      <td>0.000394</td>\n",
       "      <td>0.000640</td>\n",
       "    </tr>\n",
       "    <tr>\n",
       "      <th>2</th>\n",
       "      <td>0.000423</td>\n",
       "      <td>0.000421</td>\n",
       "      <td>0.000419</td>\n",
       "      <td>0.000761</td>\n",
       "      <td>0.000459</td>\n",
       "      <td>0.000476</td>\n",
       "      <td>0.000564</td>\n",
       "      <td>0.000590</td>\n",
       "      <td>0.000459</td>\n",
       "      <td>0.000485</td>\n",
       "      <td>...</td>\n",
       "      <td>0.000478</td>\n",
       "      <td>0.000404</td>\n",
       "      <td>0.000483</td>\n",
       "      <td>0.000464</td>\n",
       "      <td>0.000635</td>\n",
       "      <td>0.000545</td>\n",
       "      <td>0.250084</td>\n",
       "      <td>0.000440</td>\n",
       "      <td>0.000528</td>\n",
       "      <td>0.064641</td>\n",
       "    </tr>\n",
       "    <tr>\n",
       "      <th>3</th>\n",
       "      <td>0.000520</td>\n",
       "      <td>0.000516</td>\n",
       "      <td>0.000515</td>\n",
       "      <td>0.000934</td>\n",
       "      <td>0.000563</td>\n",
       "      <td>0.000584</td>\n",
       "      <td>0.000693</td>\n",
       "      <td>0.000724</td>\n",
       "      <td>0.000564</td>\n",
       "      <td>0.000595</td>\n",
       "      <td>...</td>\n",
       "      <td>0.000587</td>\n",
       "      <td>0.000496</td>\n",
       "      <td>0.000593</td>\n",
       "      <td>0.000570</td>\n",
       "      <td>0.000780</td>\n",
       "      <td>0.000670</td>\n",
       "      <td>0.127565</td>\n",
       "      <td>0.000541</td>\n",
       "      <td>0.000649</td>\n",
       "      <td>0.001054</td>\n",
       "    </tr>\n",
       "    <tr>\n",
       "      <th>4</th>\n",
       "      <td>0.000676</td>\n",
       "      <td>0.000672</td>\n",
       "      <td>0.000670</td>\n",
       "      <td>0.001216</td>\n",
       "      <td>0.000733</td>\n",
       "      <td>0.000760</td>\n",
       "      <td>0.000902</td>\n",
       "      <td>0.000943</td>\n",
       "      <td>0.000734</td>\n",
       "      <td>0.000775</td>\n",
       "      <td>...</td>\n",
       "      <td>0.000764</td>\n",
       "      <td>0.000646</td>\n",
       "      <td>0.000772</td>\n",
       "      <td>0.000742</td>\n",
       "      <td>0.001015</td>\n",
       "      <td>0.000872</td>\n",
       "      <td>0.579078</td>\n",
       "      <td>0.000704</td>\n",
       "      <td>0.000845</td>\n",
       "      <td>0.001373</td>\n",
       "    </tr>\n",
       "    <tr>\n",
       "      <th>...</th>\n",
       "      <td>...</td>\n",
       "      <td>...</td>\n",
       "      <td>...</td>\n",
       "      <td>...</td>\n",
       "      <td>...</td>\n",
       "      <td>...</td>\n",
       "      <td>...</td>\n",
       "      <td>...</td>\n",
       "      <td>...</td>\n",
       "      <td>...</td>\n",
       "      <td>...</td>\n",
       "      <td>...</td>\n",
       "      <td>...</td>\n",
       "      <td>...</td>\n",
       "      <td>...</td>\n",
       "      <td>...</td>\n",
       "      <td>...</td>\n",
       "      <td>...</td>\n",
       "      <td>...</td>\n",
       "      <td>...</td>\n",
       "      <td>...</td>\n",
       "    </tr>\n",
       "    <tr>\n",
       "      <th>493132</th>\n",
       "      <td>0.002441</td>\n",
       "      <td>0.002426</td>\n",
       "      <td>0.002417</td>\n",
       "      <td>0.004389</td>\n",
       "      <td>0.002646</td>\n",
       "      <td>0.002744</td>\n",
       "      <td>0.003255</td>\n",
       "      <td>0.003403</td>\n",
       "      <td>0.002649</td>\n",
       "      <td>0.002795</td>\n",
       "      <td>...</td>\n",
       "      <td>0.002757</td>\n",
       "      <td>0.002330</td>\n",
       "      <td>0.002784</td>\n",
       "      <td>0.002679</td>\n",
       "      <td>0.003664</td>\n",
       "      <td>0.003146</td>\n",
       "      <td>0.007567</td>\n",
       "      <td>0.002541</td>\n",
       "      <td>0.003048</td>\n",
       "      <td>0.004953</td>\n",
       "    </tr>\n",
       "    <tr>\n",
       "      <th>493133</th>\n",
       "      <td>0.000769</td>\n",
       "      <td>0.000764</td>\n",
       "      <td>0.000761</td>\n",
       "      <td>0.001382</td>\n",
       "      <td>0.000833</td>\n",
       "      <td>0.000864</td>\n",
       "      <td>0.001025</td>\n",
       "      <td>0.001072</td>\n",
       "      <td>0.000834</td>\n",
       "      <td>0.000880</td>\n",
       "      <td>...</td>\n",
       "      <td>0.000868</td>\n",
       "      <td>0.000734</td>\n",
       "      <td>0.000877</td>\n",
       "      <td>0.000844</td>\n",
       "      <td>0.001154</td>\n",
       "      <td>0.000991</td>\n",
       "      <td>0.002383</td>\n",
       "      <td>0.000800</td>\n",
       "      <td>0.000960</td>\n",
       "      <td>0.001560</td>\n",
       "    </tr>\n",
       "    <tr>\n",
       "      <th>493134</th>\n",
       "      <td>0.000676</td>\n",
       "      <td>0.000672</td>\n",
       "      <td>0.000670</td>\n",
       "      <td>0.001216</td>\n",
       "      <td>0.000733</td>\n",
       "      <td>0.000760</td>\n",
       "      <td>0.000902</td>\n",
       "      <td>0.000943</td>\n",
       "      <td>0.000734</td>\n",
       "      <td>0.000774</td>\n",
       "      <td>...</td>\n",
       "      <td>0.000764</td>\n",
       "      <td>0.000645</td>\n",
       "      <td>0.000771</td>\n",
       "      <td>0.000742</td>\n",
       "      <td>0.001015</td>\n",
       "      <td>0.000871</td>\n",
       "      <td>0.002096</td>\n",
       "      <td>0.000704</td>\n",
       "      <td>0.000844</td>\n",
       "      <td>0.001372</td>\n",
       "    </tr>\n",
       "    <tr>\n",
       "      <th>493135</th>\n",
       "      <td>0.004321</td>\n",
       "      <td>0.004294</td>\n",
       "      <td>0.004279</td>\n",
       "      <td>0.007769</td>\n",
       "      <td>0.004684</td>\n",
       "      <td>0.004857</td>\n",
       "      <td>0.005762</td>\n",
       "      <td>0.006024</td>\n",
       "      <td>0.004688</td>\n",
       "      <td>0.004947</td>\n",
       "      <td>...</td>\n",
       "      <td>0.004880</td>\n",
       "      <td>0.004124</td>\n",
       "      <td>0.004928</td>\n",
       "      <td>0.004742</td>\n",
       "      <td>0.006485</td>\n",
       "      <td>0.005569</td>\n",
       "      <td>0.013395</td>\n",
       "      <td>0.004497</td>\n",
       "      <td>0.005395</td>\n",
       "      <td>0.008767</td>\n",
       "    </tr>\n",
       "    <tr>\n",
       "      <th>493136</th>\n",
       "      <td>0.000128</td>\n",
       "      <td>0.000128</td>\n",
       "      <td>0.000127</td>\n",
       "      <td>0.056970</td>\n",
       "      <td>0.000139</td>\n",
       "      <td>0.000144</td>\n",
       "      <td>0.000171</td>\n",
       "      <td>0.000179</td>\n",
       "      <td>0.000139</td>\n",
       "      <td>0.000147</td>\n",
       "      <td>...</td>\n",
       "      <td>0.000145</td>\n",
       "      <td>0.000123</td>\n",
       "      <td>0.000147</td>\n",
       "      <td>0.000141</td>\n",
       "      <td>0.000193</td>\n",
       "      <td>0.000166</td>\n",
       "      <td>0.000398</td>\n",
       "      <td>0.000134</td>\n",
       "      <td>0.247113</td>\n",
       "      <td>0.129254</td>\n",
       "    </tr>\n",
       "  </tbody>\n",
       "</table>\n",
       "<p>493137 rows × 100 columns</p>\n",
       "</div>"
      ],
      "text/plain": [
       "         Topic 1   Topic 2   Topic 3   Topic 4   Topic 5   Topic 6   Topic 7  \\\n",
       "0       0.000231  0.000230  0.000229  0.000415  0.000250  0.000260  0.000308   \n",
       "1       0.000315  0.000313  0.000312  0.000567  0.000342  0.000354  0.000420   \n",
       "2       0.000423  0.000421  0.000419  0.000761  0.000459  0.000476  0.000564   \n",
       "3       0.000520  0.000516  0.000515  0.000934  0.000563  0.000584  0.000693   \n",
       "4       0.000676  0.000672  0.000670  0.001216  0.000733  0.000760  0.000902   \n",
       "...          ...       ...       ...       ...       ...       ...       ...   \n",
       "493132  0.002441  0.002426  0.002417  0.004389  0.002646  0.002744  0.003255   \n",
       "493133  0.000769  0.000764  0.000761  0.001382  0.000833  0.000864  0.001025   \n",
       "493134  0.000676  0.000672  0.000670  0.001216  0.000733  0.000760  0.000902   \n",
       "493135  0.004321  0.004294  0.004279  0.007769  0.004684  0.004857  0.005762   \n",
       "493136  0.000128  0.000128  0.000127  0.056970  0.000139  0.000144  0.000171   \n",
       "\n",
       "         Topic 8   Topic 9  Topic 10  ...  Topic 91  Topic 92  Topic 93  \\\n",
       "0       0.102163  0.000251  0.000265  ...  0.000261  0.000221  0.000264   \n",
       "1       0.000440  0.000342  0.000361  ...  0.000356  0.000301  0.000360   \n",
       "2       0.000590  0.000459  0.000485  ...  0.000478  0.000404  0.000483   \n",
       "3       0.000724  0.000564  0.000595  ...  0.000587  0.000496  0.000593   \n",
       "4       0.000943  0.000734  0.000775  ...  0.000764  0.000646  0.000772   \n",
       "...          ...       ...       ...  ...       ...       ...       ...   \n",
       "493132  0.003403  0.002649  0.002795  ...  0.002757  0.002330  0.002784   \n",
       "493133  0.001072  0.000834  0.000880  ...  0.000868  0.000734  0.000877   \n",
       "493134  0.000943  0.000734  0.000774  ...  0.000764  0.000645  0.000771   \n",
       "493135  0.006024  0.004688  0.004947  ...  0.004880  0.004124  0.004928   \n",
       "493136  0.000179  0.000139  0.000147  ...  0.000145  0.000123  0.000147   \n",
       "\n",
       "        Topic 94  Topic 95  Topic 96  Topic 97  Topic 98  Topic 99  Topic 100  \n",
       "0       0.000254  0.000347  0.000298  0.029189  0.000241  0.000289   0.000469  \n",
       "1       0.000346  0.000473  0.000406  0.094272  0.000328  0.000394   0.000640  \n",
       "2       0.000464  0.000635  0.000545  0.250084  0.000440  0.000528   0.064641  \n",
       "3       0.000570  0.000780  0.000670  0.127565  0.000541  0.000649   0.001054  \n",
       "4       0.000742  0.001015  0.000872  0.579078  0.000704  0.000845   0.001373  \n",
       "...          ...       ...       ...       ...       ...       ...        ...  \n",
       "493132  0.002679  0.003664  0.003146  0.007567  0.002541  0.003048   0.004953  \n",
       "493133  0.000844  0.001154  0.000991  0.002383  0.000800  0.000960   0.001560  \n",
       "493134  0.000742  0.001015  0.000871  0.002096  0.000704  0.000844   0.001372  \n",
       "493135  0.004742  0.006485  0.005569  0.013395  0.004497  0.005395   0.008767  \n",
       "493136  0.000141  0.000193  0.000166  0.000398  0.000134  0.247113   0.129254  \n",
       "\n",
       "[493137 rows x 100 columns]"
      ]
     },
     "execution_count": 30,
     "metadata": {},
     "output_type": "execute_result"
    }
   ],
   "source": [
    "# Compile a dataframe\n",
    "df_topics = pd.DataFrame(lda_corpus)\n",
    "df_topics = df_topics.applymap(lambda x: x[1])\n",
    "\n",
    "col_names = []\n",
    "for i in range(len(df_topics.columns)):\n",
    "    col_names.append(f'Topic {i+1}')\n",
    "\n",
    "df_topics.columns = col_names\n",
    "df_topics"
   ]
  },
  {
   "cell_type": "code",
   "execution_count": 31,
   "id": "9424718a",
   "metadata": {},
   "outputs": [
    {
     "data": {
      "text/html": [
       "<div>\n",
       "<style scoped>\n",
       "    .dataframe tbody tr th:only-of-type {\n",
       "        vertical-align: middle;\n",
       "    }\n",
       "\n",
       "    .dataframe tbody tr th {\n",
       "        vertical-align: top;\n",
       "    }\n",
       "\n",
       "    .dataframe thead th {\n",
       "        text-align: right;\n",
       "    }\n",
       "</style>\n",
       "<table border=\"1\" class=\"dataframe\">\n",
       "  <thead>\n",
       "    <tr style=\"text-align: right;\">\n",
       "      <th></th>\n",
       "      <th>originalIndex</th>\n",
       "      <th>is_helpful</th>\n",
       "      <th>length</th>\n",
       "      <th>stars</th>\n",
       "      <th>Topic 1</th>\n",
       "      <th>Topic 2</th>\n",
       "      <th>Topic 3</th>\n",
       "      <th>Topic 4</th>\n",
       "      <th>Topic 5</th>\n",
       "      <th>Topic 6</th>\n",
       "      <th>...</th>\n",
       "      <th>Topic 91</th>\n",
       "      <th>Topic 92</th>\n",
       "      <th>Topic 93</th>\n",
       "      <th>Topic 94</th>\n",
       "      <th>Topic 95</th>\n",
       "      <th>Topic 96</th>\n",
       "      <th>Topic 97</th>\n",
       "      <th>Topic 98</th>\n",
       "      <th>Topic 99</th>\n",
       "      <th>Topic 100</th>\n",
       "    </tr>\n",
       "  </thead>\n",
       "  <tbody>\n",
       "    <tr>\n",
       "      <th>0</th>\n",
       "      <td>9</td>\n",
       "      <td>1</td>\n",
       "      <td>579</td>\n",
       "      <td>4.0</td>\n",
       "      <td>0.000231</td>\n",
       "      <td>0.000230</td>\n",
       "      <td>0.000229</td>\n",
       "      <td>0.000415</td>\n",
       "      <td>0.000250</td>\n",
       "      <td>0.000260</td>\n",
       "      <td>...</td>\n",
       "      <td>0.000261</td>\n",
       "      <td>0.000221</td>\n",
       "      <td>0.000264</td>\n",
       "      <td>0.000254</td>\n",
       "      <td>0.000347</td>\n",
       "      <td>0.000298</td>\n",
       "      <td>0.029189</td>\n",
       "      <td>0.000241</td>\n",
       "      <td>0.000289</td>\n",
       "      <td>0.000469</td>\n",
       "    </tr>\n",
       "    <tr>\n",
       "      <th>1</th>\n",
       "      <td>12</td>\n",
       "      <td>1</td>\n",
       "      <td>374</td>\n",
       "      <td>5.0</td>\n",
       "      <td>0.000315</td>\n",
       "      <td>0.000313</td>\n",
       "      <td>0.000312</td>\n",
       "      <td>0.000567</td>\n",
       "      <td>0.000342</td>\n",
       "      <td>0.000354</td>\n",
       "      <td>...</td>\n",
       "      <td>0.000356</td>\n",
       "      <td>0.000301</td>\n",
       "      <td>0.000360</td>\n",
       "      <td>0.000346</td>\n",
       "      <td>0.000473</td>\n",
       "      <td>0.000406</td>\n",
       "      <td>0.094272</td>\n",
       "      <td>0.000328</td>\n",
       "      <td>0.000394</td>\n",
       "      <td>0.000640</td>\n",
       "    </tr>\n",
       "    <tr>\n",
       "      <th>2</th>\n",
       "      <td>13</td>\n",
       "      <td>1</td>\n",
       "      <td>235</td>\n",
       "      <td>4.0</td>\n",
       "      <td>0.000423</td>\n",
       "      <td>0.000421</td>\n",
       "      <td>0.000419</td>\n",
       "      <td>0.000761</td>\n",
       "      <td>0.000459</td>\n",
       "      <td>0.000476</td>\n",
       "      <td>...</td>\n",
       "      <td>0.000478</td>\n",
       "      <td>0.000404</td>\n",
       "      <td>0.000483</td>\n",
       "      <td>0.000464</td>\n",
       "      <td>0.000635</td>\n",
       "      <td>0.000545</td>\n",
       "      <td>0.250084</td>\n",
       "      <td>0.000440</td>\n",
       "      <td>0.000528</td>\n",
       "      <td>0.064641</td>\n",
       "    </tr>\n",
       "    <tr>\n",
       "      <th>3</th>\n",
       "      <td>15</td>\n",
       "      <td>1</td>\n",
       "      <td>275</td>\n",
       "      <td>5.0</td>\n",
       "      <td>0.000520</td>\n",
       "      <td>0.000516</td>\n",
       "      <td>0.000515</td>\n",
       "      <td>0.000934</td>\n",
       "      <td>0.000563</td>\n",
       "      <td>0.000584</td>\n",
       "      <td>...</td>\n",
       "      <td>0.000587</td>\n",
       "      <td>0.000496</td>\n",
       "      <td>0.000593</td>\n",
       "      <td>0.000570</td>\n",
       "      <td>0.000780</td>\n",
       "      <td>0.000670</td>\n",
       "      <td>0.127565</td>\n",
       "      <td>0.000541</td>\n",
       "      <td>0.000649</td>\n",
       "      <td>0.001054</td>\n",
       "    </tr>\n",
       "    <tr>\n",
       "      <th>4</th>\n",
       "      <td>16</td>\n",
       "      <td>1</td>\n",
       "      <td>245</td>\n",
       "      <td>5.0</td>\n",
       "      <td>0.000676</td>\n",
       "      <td>0.000672</td>\n",
       "      <td>0.000670</td>\n",
       "      <td>0.001216</td>\n",
       "      <td>0.000733</td>\n",
       "      <td>0.000760</td>\n",
       "      <td>...</td>\n",
       "      <td>0.000764</td>\n",
       "      <td>0.000646</td>\n",
       "      <td>0.000772</td>\n",
       "      <td>0.000742</td>\n",
       "      <td>0.001015</td>\n",
       "      <td>0.000872</td>\n",
       "      <td>0.579078</td>\n",
       "      <td>0.000704</td>\n",
       "      <td>0.000845</td>\n",
       "      <td>0.001373</td>\n",
       "    </tr>\n",
       "    <tr>\n",
       "      <th>...</th>\n",
       "      <td>...</td>\n",
       "      <td>...</td>\n",
       "      <td>...</td>\n",
       "      <td>...</td>\n",
       "      <td>...</td>\n",
       "      <td>...</td>\n",
       "      <td>...</td>\n",
       "      <td>...</td>\n",
       "      <td>...</td>\n",
       "      <td>...</td>\n",
       "      <td>...</td>\n",
       "      <td>...</td>\n",
       "      <td>...</td>\n",
       "      <td>...</td>\n",
       "      <td>...</td>\n",
       "      <td>...</td>\n",
       "      <td>...</td>\n",
       "      <td>...</td>\n",
       "      <td>...</td>\n",
       "      <td>...</td>\n",
       "      <td>...</td>\n",
       "    </tr>\n",
       "    <tr>\n",
       "      <th>493132</th>\n",
       "      <td>1324722</td>\n",
       "      <td>1</td>\n",
       "      <td>20</td>\n",
       "      <td>5.0</td>\n",
       "      <td>0.002441</td>\n",
       "      <td>0.002426</td>\n",
       "      <td>0.002417</td>\n",
       "      <td>0.004389</td>\n",
       "      <td>0.002646</td>\n",
       "      <td>0.002744</td>\n",
       "      <td>...</td>\n",
       "      <td>0.002757</td>\n",
       "      <td>0.002330</td>\n",
       "      <td>0.002784</td>\n",
       "      <td>0.002679</td>\n",
       "      <td>0.003664</td>\n",
       "      <td>0.003146</td>\n",
       "      <td>0.007567</td>\n",
       "      <td>0.002541</td>\n",
       "      <td>0.003048</td>\n",
       "      <td>0.004953</td>\n",
       "    </tr>\n",
       "    <tr>\n",
       "      <th>493133</th>\n",
       "      <td>1324723</td>\n",
       "      <td>1</td>\n",
       "      <td>108</td>\n",
       "      <td>5.0</td>\n",
       "      <td>0.000769</td>\n",
       "      <td>0.000764</td>\n",
       "      <td>0.000761</td>\n",
       "      <td>0.001382</td>\n",
       "      <td>0.000833</td>\n",
       "      <td>0.000864</td>\n",
       "      <td>...</td>\n",
       "      <td>0.000868</td>\n",
       "      <td>0.000734</td>\n",
       "      <td>0.000877</td>\n",
       "      <td>0.000844</td>\n",
       "      <td>0.001154</td>\n",
       "      <td>0.000991</td>\n",
       "      <td>0.002383</td>\n",
       "      <td>0.000800</td>\n",
       "      <td>0.000960</td>\n",
       "      <td>0.001560</td>\n",
       "    </tr>\n",
       "    <tr>\n",
       "      <th>493134</th>\n",
       "      <td>1324724</td>\n",
       "      <td>1</td>\n",
       "      <td>180</td>\n",
       "      <td>4.0</td>\n",
       "      <td>0.000676</td>\n",
       "      <td>0.000672</td>\n",
       "      <td>0.000670</td>\n",
       "      <td>0.001216</td>\n",
       "      <td>0.000733</td>\n",
       "      <td>0.000760</td>\n",
       "      <td>...</td>\n",
       "      <td>0.000764</td>\n",
       "      <td>0.000645</td>\n",
       "      <td>0.000771</td>\n",
       "      <td>0.000742</td>\n",
       "      <td>0.001015</td>\n",
       "      <td>0.000871</td>\n",
       "      <td>0.002096</td>\n",
       "      <td>0.000704</td>\n",
       "      <td>0.000844</td>\n",
       "      <td>0.001372</td>\n",
       "    </tr>\n",
       "    <tr>\n",
       "      <th>493135</th>\n",
       "      <td>1324741</td>\n",
       "      <td>1</td>\n",
       "      <td>11</td>\n",
       "      <td>5.0</td>\n",
       "      <td>0.004321</td>\n",
       "      <td>0.004294</td>\n",
       "      <td>0.004279</td>\n",
       "      <td>0.007769</td>\n",
       "      <td>0.004684</td>\n",
       "      <td>0.004857</td>\n",
       "      <td>...</td>\n",
       "      <td>0.004880</td>\n",
       "      <td>0.004124</td>\n",
       "      <td>0.004928</td>\n",
       "      <td>0.004742</td>\n",
       "      <td>0.006485</td>\n",
       "      <td>0.005569</td>\n",
       "      <td>0.013395</td>\n",
       "      <td>0.004497</td>\n",
       "      <td>0.005395</td>\n",
       "      <td>0.008767</td>\n",
       "    </tr>\n",
       "    <tr>\n",
       "      <th>493136</th>\n",
       "      <td>1324742</td>\n",
       "      <td>1</td>\n",
       "      <td>989</td>\n",
       "      <td>5.0</td>\n",
       "      <td>0.000128</td>\n",
       "      <td>0.000128</td>\n",
       "      <td>0.000127</td>\n",
       "      <td>0.056970</td>\n",
       "      <td>0.000139</td>\n",
       "      <td>0.000144</td>\n",
       "      <td>...</td>\n",
       "      <td>0.000145</td>\n",
       "      <td>0.000123</td>\n",
       "      <td>0.000147</td>\n",
       "      <td>0.000141</td>\n",
       "      <td>0.000193</td>\n",
       "      <td>0.000166</td>\n",
       "      <td>0.000398</td>\n",
       "      <td>0.000134</td>\n",
       "      <td>0.247113</td>\n",
       "      <td>0.129254</td>\n",
       "    </tr>\n",
       "  </tbody>\n",
       "</table>\n",
       "<p>493137 rows × 104 columns</p>\n",
       "</div>"
      ],
      "text/plain": [
       "        originalIndex  is_helpful  length  stars   Topic 1   Topic 2  \\\n",
       "0                   9           1     579    4.0  0.000231  0.000230   \n",
       "1                  12           1     374    5.0  0.000315  0.000313   \n",
       "2                  13           1     235    4.0  0.000423  0.000421   \n",
       "3                  15           1     275    5.0  0.000520  0.000516   \n",
       "4                  16           1     245    5.0  0.000676  0.000672   \n",
       "...               ...         ...     ...    ...       ...       ...   \n",
       "493132        1324722           1      20    5.0  0.002441  0.002426   \n",
       "493133        1324723           1     108    5.0  0.000769  0.000764   \n",
       "493134        1324724           1     180    4.0  0.000676  0.000672   \n",
       "493135        1324741           1      11    5.0  0.004321  0.004294   \n",
       "493136        1324742           1     989    5.0  0.000128  0.000128   \n",
       "\n",
       "         Topic 3   Topic 4   Topic 5   Topic 6  ...  Topic 91  Topic 92  \\\n",
       "0       0.000229  0.000415  0.000250  0.000260  ...  0.000261  0.000221   \n",
       "1       0.000312  0.000567  0.000342  0.000354  ...  0.000356  0.000301   \n",
       "2       0.000419  0.000761  0.000459  0.000476  ...  0.000478  0.000404   \n",
       "3       0.000515  0.000934  0.000563  0.000584  ...  0.000587  0.000496   \n",
       "4       0.000670  0.001216  0.000733  0.000760  ...  0.000764  0.000646   \n",
       "...          ...       ...       ...       ...  ...       ...       ...   \n",
       "493132  0.002417  0.004389  0.002646  0.002744  ...  0.002757  0.002330   \n",
       "493133  0.000761  0.001382  0.000833  0.000864  ...  0.000868  0.000734   \n",
       "493134  0.000670  0.001216  0.000733  0.000760  ...  0.000764  0.000645   \n",
       "493135  0.004279  0.007769  0.004684  0.004857  ...  0.004880  0.004124   \n",
       "493136  0.000127  0.056970  0.000139  0.000144  ...  0.000145  0.000123   \n",
       "\n",
       "        Topic 93  Topic 94  Topic 95  Topic 96  Topic 97  Topic 98  Topic 99  \\\n",
       "0       0.000264  0.000254  0.000347  0.000298  0.029189  0.000241  0.000289   \n",
       "1       0.000360  0.000346  0.000473  0.000406  0.094272  0.000328  0.000394   \n",
       "2       0.000483  0.000464  0.000635  0.000545  0.250084  0.000440  0.000528   \n",
       "3       0.000593  0.000570  0.000780  0.000670  0.127565  0.000541  0.000649   \n",
       "4       0.000772  0.000742  0.001015  0.000872  0.579078  0.000704  0.000845   \n",
       "...          ...       ...       ...       ...       ...       ...       ...   \n",
       "493132  0.002784  0.002679  0.003664  0.003146  0.007567  0.002541  0.003048   \n",
       "493133  0.000877  0.000844  0.001154  0.000991  0.002383  0.000800  0.000960   \n",
       "493134  0.000771  0.000742  0.001015  0.000871  0.002096  0.000704  0.000844   \n",
       "493135  0.004928  0.004742  0.006485  0.005569  0.013395  0.004497  0.005395   \n",
       "493136  0.000147  0.000141  0.000193  0.000166  0.000398  0.000134  0.247113   \n",
       "\n",
       "        Topic 100  \n",
       "0        0.000469  \n",
       "1        0.000640  \n",
       "2        0.064641  \n",
       "3        0.001054  \n",
       "4        0.001373  \n",
       "...           ...  \n",
       "493132   0.004953  \n",
       "493133   0.001560  \n",
       "493134   0.001372  \n",
       "493135   0.008767  \n",
       "493136   0.129254  \n",
       "\n",
       "[493137 rows x 104 columns]"
      ]
     },
     "execution_count": 31,
     "metadata": {},
     "output_type": "execute_result"
    }
   ],
   "source": [
    "# Concatenate dataframes \n",
    "df_label_features = pd.concat([df,df_topics], axis=1).drop('review', axis = 1)\n",
    "df_label_features "
   ]
  },
  {
   "cell_type": "code",
   "execution_count": 32,
   "id": "1446959d",
   "metadata": {},
   "outputs": [],
   "source": [
    "# Store final dataset with all engineered features as a CSV file \n",
    "df_label_features.to_csv('df_label_features.csv', sep = '\\t', index = False)"
   ]
  },
  {
   "cell_type": "code",
   "execution_count": 33,
   "id": "3f954634",
   "metadata": {},
   "outputs": [],
   "source": [
    "# Save dictionary \n",
    "dict.save('dictionary.dict')"
   ]
  },
  {
   "cell_type": "code",
   "execution_count": 34,
   "id": "e4bd8de3",
   "metadata": {},
   "outputs": [],
   "source": [
    "# Save corpus \n",
    "gensim.corpora.MmCorpus.serialize('corpus.mm', corpus)"
   ]
  },
  {
   "cell_type": "code",
   "execution_count": 35,
   "id": "cb74fda1",
   "metadata": {},
   "outputs": [],
   "source": [
    "# Save lda model \n",
    "lda.save('lda_model.mdl')"
   ]
  },
  {
   "cell_type": "code",
   "execution_count": 36,
   "id": "ad7ad67b",
   "metadata": {},
   "outputs": [],
   "source": [
    "# Save topics \n",
    "with open('lda_topics.data', 'w') as file:\n",
    "    topics_data=lda.print_topics(num_topics=LDA_TOPICS_N)\n",
    "    file.write(str(topics_data))"
   ]
  },
  {
   "cell_type": "code",
   "execution_count": 37,
   "id": "236228d0",
   "metadata": {},
   "outputs": [
    {
     "name": "stdout",
     "output_type": "stream",
     "text": [
      "LdaModel(num_terms=260495, num_topics=100, decay=0.5, chunksize=10000)\n"
     ]
    }
   ],
   "source": [
    "# Test load LDA model \n",
    "lda1 = gensim.models.ldamodel.LdaModel.load('lda_model.mdl')\n",
    "print(lda1)"
   ]
  },
  {
   "cell_type": "markdown",
   "id": "f77c6065",
   "metadata": {},
   "source": [
    "#### Test model "
   ]
  },
  {
   "cell_type": "code",
   "execution_count": 38,
   "id": "3d5e7b41",
   "metadata": {},
   "outputs": [
    {
     "name": "stdout",
     "output_type": "stream",
     "text": [
      "[(64, 1), (92, 1), (452, 1)]\n",
      "[(0, 0.002441378), (1, 0.0024264378), (2, 0.0024178457), (3, 0.0043899175), (4, 0.0026465864), (5, 0.0027446593), (6, 0.0032558804), (7, 0.0034039125), (8, 0.0026493147), (9, 0.002795556), (10, 0.0025042912), (11, 0.0041933293), (12, 0.002614871), (13, 0.0031979803), (14, 0.002565319), (15, 0.006754919), (16, 0.002850765), (17, 0.0027254059), (18, 0.0034193501), (19, 0.0054982374), (20, 0.0025519102), (21, 0.0057388633), (22, 0.002620565), (23, 0.00536505), (24, 0.0031843556), (25, 0.002625392), (26, 0.0032753057), (27, 0.002633595), (28, 0.0050387764), (29, 0.54850537), (30, 0.0037637267), (31, 0.0027703338), (32, 0.0029427425), (33, 0.0044404357), (34, 0.0036944202), (35, 0.006396281), (36, 0.002854768), (37, 0.0023291986), (38, 0.0086643165), (39, 0.002450739), (40, 0.004621957), (41, 0.004231792), (42, 0.0032424065), (43, 0.0027474968), (44, 0.0037360932), (45, 0.002871325), (46, 0.0051003867), (47, 0.005767047), (48, 0.0038247895), (49, 0.0021828515), (50, 0.0032862814), (51, 0.0031395366), (52, 0.0031904036), (53, 0.0027442372), (54, 0.0038744302), (55, 0.002494168), (56, 0.0033947665), (57, 0.0025913112), (58, 0.002546145), (59, 0.0038596198), (60, 0.005379967), (61, 0.0044786115), (62, 0.0029192779), (63, 0.0027874557), (64, 0.0040474464), (65, 0.0031501146), (66, 0.0027832538), (67, 0.0034680578), (68, 0.0054998705), (69, 0.0030713305), (70, 0.0031411147), (71, 0.11028411), (72, 0.0030725796), (73, 0.0027315149), (74, 0.0029179023), (75, 0.0033190122), (76, 0.0036719802), (77, 0.0025023604), (78, 0.004262538), (79, 0.003478161), (80, 0.0049776435), (81, 0.0022427686), (82, 0.0021217566), (83, 0.0033599157), (84, 0.0027183034), (85, 0.0026585069), (86, 0.0033336168), (87, 0.0026250521), (88, 0.0037290782), (89, 0.003001784), (90, 0.0027573397), (91, 0.0023305914), (92, 0.0027848422), (93, 0.0026795827), (94, 0.00366437), (95, 0.003146735), (96, 0.0075688567), (97, 0.0025413393), (98, 0.0030483832), (99, 0.004953781)]\n"
     ]
    }
   ],
   "source": [
    "# Test LDA topics probability for custom tokens\n",
    "query = dict.doc2bow(['like', 'toy', 'joy'])\n",
    "print(query)\n",
    "lda_query = lda[query]\n",
    "print(lda_query)"
   ]
  },
  {
   "cell_type": "markdown",
   "id": "554da085",
   "metadata": {},
   "source": [
    "#### Build RandomForest classifier"
   ]
  },
  {
   "cell_type": "code",
   "execution_count": 39,
   "id": "b2c81885",
   "metadata": {},
   "outputs": [],
   "source": [
    "# Load saved dataset with features and label \n",
    "df = pd.read_csv('df_label_features.csv', sep='\\t')"
   ]
  },
  {
   "cell_type": "code",
   "execution_count": 40,
   "id": "5e18f598",
   "metadata": {},
   "outputs": [
    {
     "data": {
      "text/html": [
       "<div>\n",
       "<style scoped>\n",
       "    .dataframe tbody tr th:only-of-type {\n",
       "        vertical-align: middle;\n",
       "    }\n",
       "\n",
       "    .dataframe tbody tr th {\n",
       "        vertical-align: top;\n",
       "    }\n",
       "\n",
       "    .dataframe thead th {\n",
       "        text-align: right;\n",
       "    }\n",
       "</style>\n",
       "<table border=\"1\" class=\"dataframe\">\n",
       "  <thead>\n",
       "    <tr style=\"text-align: right;\">\n",
       "      <th></th>\n",
       "      <th>originalIndex</th>\n",
       "      <th>is_helpful</th>\n",
       "      <th>length</th>\n",
       "      <th>stars</th>\n",
       "      <th>Topic 1</th>\n",
       "      <th>Topic 2</th>\n",
       "      <th>Topic 3</th>\n",
       "      <th>Topic 4</th>\n",
       "      <th>Topic 5</th>\n",
       "      <th>Topic 6</th>\n",
       "      <th>...</th>\n",
       "      <th>Topic 91</th>\n",
       "      <th>Topic 92</th>\n",
       "      <th>Topic 93</th>\n",
       "      <th>Topic 94</th>\n",
       "      <th>Topic 95</th>\n",
       "      <th>Topic 96</th>\n",
       "      <th>Topic 97</th>\n",
       "      <th>Topic 98</th>\n",
       "      <th>Topic 99</th>\n",
       "      <th>Topic 100</th>\n",
       "    </tr>\n",
       "  </thead>\n",
       "  <tbody>\n",
       "    <tr>\n",
       "      <th>0</th>\n",
       "      <td>9</td>\n",
       "      <td>1</td>\n",
       "      <td>579</td>\n",
       "      <td>4.0</td>\n",
       "      <td>0.000231</td>\n",
       "      <td>0.000230</td>\n",
       "      <td>0.000229</td>\n",
       "      <td>0.000415</td>\n",
       "      <td>0.000250</td>\n",
       "      <td>0.000260</td>\n",
       "      <td>...</td>\n",
       "      <td>0.000261</td>\n",
       "      <td>0.000221</td>\n",
       "      <td>0.000264</td>\n",
       "      <td>0.000254</td>\n",
       "      <td>0.000347</td>\n",
       "      <td>0.000298</td>\n",
       "      <td>0.029189</td>\n",
       "      <td>0.000241</td>\n",
       "      <td>0.000289</td>\n",
       "      <td>0.000469</td>\n",
       "    </tr>\n",
       "    <tr>\n",
       "      <th>1</th>\n",
       "      <td>12</td>\n",
       "      <td>1</td>\n",
       "      <td>374</td>\n",
       "      <td>5.0</td>\n",
       "      <td>0.000315</td>\n",
       "      <td>0.000313</td>\n",
       "      <td>0.000312</td>\n",
       "      <td>0.000567</td>\n",
       "      <td>0.000342</td>\n",
       "      <td>0.000354</td>\n",
       "      <td>...</td>\n",
       "      <td>0.000356</td>\n",
       "      <td>0.000301</td>\n",
       "      <td>0.000360</td>\n",
       "      <td>0.000346</td>\n",
       "      <td>0.000473</td>\n",
       "      <td>0.000406</td>\n",
       "      <td>0.094272</td>\n",
       "      <td>0.000328</td>\n",
       "      <td>0.000394</td>\n",
       "      <td>0.000640</td>\n",
       "    </tr>\n",
       "    <tr>\n",
       "      <th>2</th>\n",
       "      <td>13</td>\n",
       "      <td>1</td>\n",
       "      <td>235</td>\n",
       "      <td>4.0</td>\n",
       "      <td>0.000423</td>\n",
       "      <td>0.000421</td>\n",
       "      <td>0.000419</td>\n",
       "      <td>0.000761</td>\n",
       "      <td>0.000459</td>\n",
       "      <td>0.000476</td>\n",
       "      <td>...</td>\n",
       "      <td>0.000478</td>\n",
       "      <td>0.000404</td>\n",
       "      <td>0.000483</td>\n",
       "      <td>0.000464</td>\n",
       "      <td>0.000635</td>\n",
       "      <td>0.000545</td>\n",
       "      <td>0.250084</td>\n",
       "      <td>0.000440</td>\n",
       "      <td>0.000528</td>\n",
       "      <td>0.064641</td>\n",
       "    </tr>\n",
       "  </tbody>\n",
       "</table>\n",
       "<p>3 rows × 104 columns</p>\n",
       "</div>"
      ],
      "text/plain": [
       "   originalIndex  is_helpful  length  stars   Topic 1   Topic 2   Topic 3  \\\n",
       "0              9           1     579    4.0  0.000231  0.000230  0.000229   \n",
       "1             12           1     374    5.0  0.000315  0.000313  0.000312   \n",
       "2             13           1     235    4.0  0.000423  0.000421  0.000419   \n",
       "\n",
       "    Topic 4   Topic 5   Topic 6  ...  Topic 91  Topic 92  Topic 93  Topic 94  \\\n",
       "0  0.000415  0.000250  0.000260  ...  0.000261  0.000221  0.000264  0.000254   \n",
       "1  0.000567  0.000342  0.000354  ...  0.000356  0.000301  0.000360  0.000346   \n",
       "2  0.000761  0.000459  0.000476  ...  0.000478  0.000404  0.000483  0.000464   \n",
       "\n",
       "   Topic 95  Topic 96  Topic 97  Topic 98  Topic 99  Topic 100  \n",
       "0  0.000347  0.000298  0.029189  0.000241  0.000289   0.000469  \n",
       "1  0.000473  0.000406  0.094272  0.000328  0.000394   0.000640  \n",
       "2  0.000635  0.000545  0.250084  0.000440  0.000528   0.064641  \n",
       "\n",
       "[3 rows x 104 columns]"
      ]
     },
     "execution_count": 40,
     "metadata": {},
     "output_type": "execute_result"
    }
   ],
   "source": [
    "df.head(3)"
   ]
  },
  {
   "cell_type": "code",
   "execution_count": 41,
   "id": "f8647436",
   "metadata": {},
   "outputs": [],
   "source": [
    "# Train test data split\n",
    "\n",
    "# All features\n",
    "X=df.drop(['is_helpful', 'originalIndex'], axis = 1)\n",
    "\n",
    "# Labels \n",
    "y=df['is_helpful']\n",
    "\n",
    "# Stratified split\n",
    "X_train, X_test, y_train, y_test = train_test_split(X, y, stratify=y, test_size=0.20, random_state=10)"
   ]
  },
  {
   "cell_type": "code",
   "execution_count": 42,
   "id": "cc868ef6",
   "metadata": {},
   "outputs": [],
   "source": [
    "# Create and fit RF\n",
    "rf = RandomForestClassifier(n_estimators = 120, n_jobs = -1, random_state = 10)\n",
    "rf_model = rf.fit(X_train, y_train)"
   ]
  },
  {
   "cell_type": "code",
   "execution_count": 43,
   "id": "40f00257",
   "metadata": {},
   "outputs": [],
   "source": [
    "# Evaluate rf_model\n",
    "accuracy = rf_model.score(X_test, y_test)"
   ]
  },
  {
   "cell_type": "code",
   "execution_count": 44,
   "id": "21b8cbad",
   "metadata": {},
   "outputs": [
    {
     "data": {
      "text/plain": [
       "length      0.044714\n",
       "stars       0.026089\n",
       "Topic 39    0.020920\n",
       "Topic 97    0.020909\n",
       "Topic 36    0.018648\n",
       "              ...   \n",
       "Topic 78    0.005313\n",
       "Topic 59    0.005292\n",
       "Topic 13    0.005212\n",
       "Topic 2     0.005118\n",
       "Topic 83    0.004756\n",
       "Length: 102, dtype: float64"
      ]
     },
     "execution_count": 44,
     "metadata": {},
     "output_type": "execute_result"
    }
   ],
   "source": [
    "# Print feature importances \n",
    "feature_importances = pd.Series(rf_model.feature_importances_, index=X_test.columns).sort_values(ascending=False)\n",
    "feature_importances"
   ]
  },
  {
   "cell_type": "code",
   "execution_count": 45,
   "id": "50d4819c",
   "metadata": {
    "scrolled": true
   },
   "outputs": [
    {
     "data": {
      "text/plain": [
       "Text(0.5, 1.0, 'Top 20 important features')"
      ]
     },
     "execution_count": 45,
     "metadata": {},
     "output_type": "execute_result"
    },
    {
     "data": {
      "image/png": "[encoded data removed]",
      "text/plain": [
       "<Figure size 450x360 with 1 Axes>"
      ]
     },
     "metadata": {},
     "output_type": "display_data"
    }
   ],
   "source": [
    "# Plot feature importances \n",
    "fig, axs = plt.subplots(dpi=90, figsize = (5, 4))\n",
    "feature_importances.head(20).plot(kind='bar',\n",
    "    width = 0.8,\n",
    "    ax = axs,\n",
    "    )\n",
    "axs.set_xlabel('Features')\n",
    "axs.set_ylabel('Feature importance value')\n",
    "axs.set_title('Top 20 important features')"
   ]
  },
  {
   "cell_type": "code",
   "execution_count": 74,
   "id": "e998777f",
   "metadata": {},
   "outputs": [
    {
     "name": "stdout",
     "output_type": "stream",
     "text": [
      "Topic 83     0\n",
      "Topic 2      1\n",
      "Topic 13     2\n",
      "Topic 59     3\n",
      "Topic 78     4\n",
      "Topic 58     5\n",
      "Topic 26     6\n",
      "Topic 86     7\n",
      "Topic 23     8\n",
      "Topic 11     9\n",
      "Topic 67    10\n",
      "Topic 10    11\n",
      "Topic 18    12\n",
      "Topic 91    13\n",
      "Topic 74    14\n",
      "Topic 15    15\n",
      "Topic 88    16\n",
      "Topic 64    17\n",
      "Topic 1     18\n",
      "Topic 37    19\n",
      "dtype: int64\n"
     ]
    }
   ],
   "source": [
    "headers = np.argsort(feature_importances)[::-1][0:20]\n",
    "np.std(headers)\n",
    "print(headers)"
   ]
  },
  {
   "cell_type": "code",
   "execution_count": 75,
   "id": "a7b56faa",
   "metadata": {},
   "outputs": [
    {
     "name": "stderr",
     "output_type": "stream",
     "text": [
      "C:\\ProgramData\\Anaconda3\\lib\\site-packages\\numpy\\core\\_methods.py:44: RuntimeWarning: invalid value encountered in reduce\n",
      "  return umr_minimum(a, axis, None, out, keepdims, initial, where)\n",
      "C:\\ProgramData\\Anaconda3\\lib\\site-packages\\numpy\\core\\_methods.py:40: RuntimeWarning: invalid value encountered in reduce\n",
      "  return umr_maximum(a, axis, None, out, keepdims, initial, where)\n"
     ]
    },
    {
     "data": {
      "text/plain": [
       "(0.0, 0.08)"
      ]
     },
     "execution_count": 75,
     "metadata": {},
     "output_type": "execute_result"
    },
    {
     "data": {
      "image/png": "[encoded data removed]",
      "text/plain": [
       "<Figure size 450x360 with 1 Axes>"
      ]
     },
     "metadata": {},
     "output_type": "display_data"
    }
   ],
   "source": [
    "# Plot feature importances with error \n",
    "fig, axs = plt.subplots(dpi=90, figsize = (5, 4))\n",
    "feature_importances.head(20).plot(kind='bar',\n",
    "    width = 0.8,\n",
    "    ax = axs,\n",
    "    color = 'lightgrey',\n",
    "    edgecolor = 'black',\n",
    "    yerr=headers\n",
    "    )\n",
    "axs.set_xlabel('Variables')\n",
    "axs.set_ylabel('Variable importance value')\n",
    "axs.set_title('Top 20 important variables')\n",
    "plt.ylim((0,0.08))"
   ]
  },
  {
   "cell_type": "code",
   "execution_count": 76,
   "id": "fd3e2c7e",
   "metadata": {},
   "outputs": [
    {
     "name": "stdout",
     "output_type": "stream",
     "text": [
      "Accuracy: 0.6661191548039096\n"
     ]
    }
   ],
   "source": [
    "# Extract accuracy metric value\n",
    "y_pred = rf_model.predict(X_test)\n",
    "print(\"Accuracy:\", metrics.accuracy_score(y_test, y_pred))"
   ]
  },
  {
   "cell_type": "code",
   "execution_count": 78,
   "id": "db2d476c",
   "metadata": {},
   "outputs": [
    {
     "data": {
      "text/plain": [
       "Text(0.5, 1.0, 'Receiver Operating Characteristic')"
      ]
     },
     "execution_count": 78,
     "metadata": {},
     "output_type": "execute_result"
    },
    {
     "data": {
      "image/png": "[encoded data removed]",
      "text/plain": [
       "<Figure size 450x450 with 1 Axes>"
      ]
     },
     "metadata": {},
     "output_type": "display_data"
    }
   ],
   "source": [
    "# Plot ROC curve\n",
    "fig, axs = plt.subplots(dpi=90, figsize = (5,5))\n",
    "probs = rf_model.predict_proba(X_test)[::,1]\n",
    "fpr, tpr, _ = metrics.roc_curve(y_test, probs)\n",
    "scores = metrics.roc_auc_score(y_test, probs)\n",
    "plt.plot(fpr,tpr,label=\"RF classifier AUC = \"+str(round(scores,2)))\n",
    "plt.plot([0,1],[0,1], '--h')\n",
    "plt.xlim([0.0,1.0])\n",
    "plt.ylim([0.0,1.0])\n",
    "plt.legend(loc='lower right')\n",
    "plt.ylabel('TPR')\n",
    "plt.xlabel('FPR')\n",
    "plt.title('Receiver Operating Characteristic')"
   ]
  },
  {
   "cell_type": "code",
   "execution_count": 79,
   "id": "c8206e91",
   "metadata": {},
   "outputs": [
    {
     "data": {
      "text/plain": [
       "['rf_model.joblib']"
      ]
     },
     "execution_count": 79,
     "metadata": {},
     "output_type": "execute_result"
    }
   ],
   "source": [
    "# Save RF model \n",
    "joblib.dump(rf_model, \"rf_model.joblib\")"
   ]
  },
  {
   "cell_type": "code",
   "execution_count": 80,
   "id": "ee076c41",
   "metadata": {},
   "outputs": [],
   "source": [
    "# Data sampling on random\n",
    "sample_n = 10000\n",
    "X_test_prob = X_test.copy()\n",
    "X_test_prob['prob'] = probs\n",
    "data = X_test_prob.sample(n=sample_n, random_state=1)"
   ]
  },
  {
   "cell_type": "code",
   "execution_count": 81,
   "id": "78b19ab1",
   "metadata": {},
   "outputs": [
    {
     "name": "stderr",
     "output_type": "stream",
     "text": [
      "C:\\ProgramData\\Anaconda3\\lib\\site-packages\\seaborn\\_decorators.py:36: FutureWarning: Pass the following variables as keyword args: x, y, data. From version 0.12, the only valid positional argument will be `data`, and passing other arguments without an explicit keyword will result in an error or misinterpretation.\n",
      "  warnings.warn(\n"
     ]
    },
    {
     "data": {
      "text/plain": [
       "Text(0.5, 1.0, '10000 data samples (probability~feature)')"
      ]
     },
     "execution_count": 81,
     "metadata": {},
     "output_type": "execute_result"
    },
    {
     "data": {
      "image/png": "[encoded data removed]",
      "text/plain": [
       "<Figure size 450x360 with 1 Axes>"
      ]
     },
     "metadata": {},
     "output_type": "display_data"
    }
   ],
   "source": [
    "# Scatterplot for topic 82\n",
    "fig, axs = plt.subplots(dpi=90, figsize=(5, 4))\n",
    "sns.regplot('Topic 82', 'prob', data, lowess=True, scatter_kws={'alpha':0.35}, line_kws={'lw':2, 'color': 'black'}, ax=axs)\n",
    "plt.title(\"10000 data samples (probability~feature)\")"
   ]
  },
  {
   "cell_type": "code",
   "execution_count": 82,
   "id": "023e5057",
   "metadata": {},
   "outputs": [
    {
     "data": {
      "text/plain": [
       "Text(0.5, 1.0, '10000 data samples (probability~feature)')"
      ]
     },
     "execution_count": 82,
     "metadata": {},
     "output_type": "execute_result"
    },
    {
     "data": {
      "image/png": "[encoded data removed]",
      "text/plain": [
       "<Figure size 450x360 with 1 Axes>"
      ]
     },
     "metadata": {},
     "output_type": "display_data"
    }
   ],
   "source": [
    "# Scatterplot for topic 53\n",
    "fig, axs = plt.subplots(dpi=90, figsize=(5, 4))\n",
    "sns.regplot('Topic 53', 'prob', data, lowess=True, scatter_kws={'alpha':0.35}, line_kws={'lw':2, 'color': 'black'}, ax=axs)\n",
    "plt.title(\"10000 data samples (probability~feature)\")"
   ]
  },
  {
   "cell_type": "code",
   "execution_count": 83,
   "id": "a46a1bd7",
   "metadata": {},
   "outputs": [
    {
     "data": {
      "text/plain": [
       "Text(0.5, 1.0, '10000 data samples (probability~feature)')"
      ]
     },
     "execution_count": 83,
     "metadata": {},
     "output_type": "execute_result"
    },
    {
     "data": {
      "image/png": "[encoded data removed]",
      "text/plain": [
       "<Figure size 450x360 with 1 Axes>"
      ]
     },
     "metadata": {},
     "output_type": "display_data"
    }
   ],
   "source": [
    "# Scatterplot for topic 15\n",
    "fig, axs = plt.subplots(dpi=90, figsize=(5, 4))\n",
    "sns.regplot('Topic 15', 'prob', data, lowess=True, scatter_kws={'alpha':0.35}, line_kws={'lw':2, 'color': 'black'}, ax=axs)\n",
    "plt.title(\"10000 data samples (probability~feature)\")"
   ]
  },
  {
   "cell_type": "code",
   "execution_count": null,
   "id": "58d27b38",
   "metadata": {},
   "outputs": [],
   "source": []
  }
 ],
 "metadata": {
  "kernelspec": {
   "display_name": "Python 3 (ipykernel)",
   "language": "python",
   "name": "python3"
  },
  "language_info": {
   "codemirror_mode": {
    "name": "ipython",
    "version": 3
   },
   "file_extension": ".py",
   "mimetype": "text/x-python",
   "name": "python",
   "nbconvert_exporter": "python",
   "pygments_lexer": "ipython3",
   "version": "3.11.7"
  }
 },
 "nbformat": 4,
 "nbformat_minor": 5
}
